{
 "cells": [
  {
   "cell_type": "code",
   "execution_count": 1,
   "id": "06cd3c34-0940-42b5-8e71-9625e5cfd3f3",
   "metadata": {},
   "outputs": [],
   "source": [
    "# Data Processing & Analysis\n",
    "import pandas as pd              # Data manipulation (DataFrames, Series)\n",
    "import numpy as np               # Numerical operations (arrays, math functions)\n",
    "from collections import Counter  # Count hashable objects (for frequency analysis)\n",
    "import ast                       # Safely evaluate strings as Python literals (for list columns)\n",
    "\n",
    "# Visualization Libraries (Static)\n",
    "import matplotlib as mpl         # Base matplotlib library (configuration)\n",
    "import matplotlib.pyplot as plt  # MATLAB-style plotting interface\n",
    "from matplotlib.cm import ScalarMappable  # Color mapping for visualizations\n",
    "from matplotlib.lines import Line2D       # Custom legend handles\n",
    "from mpl_toolkits.axes_grid1.inset_locator import inset_axes  # Embedded axes\n",
    "import seaborn as sns            # High-level statistical visualization\n",
    "\n",
    "# Visualization Libraries (Interactive)\n",
    "import plotly.express as px      # Simple interactive visualizations\n",
    "import dash                      # Web dashboard framework\n",
    "from dash import dcc, html       # Dash core components & HTML tags\n",
    "from dash.dependencies import Input, Output  # Callback functionality\n",
    "\n",
    "# Text & Image Processing\n",
    "from textwrap import wrap        # Text formatting for labels\n",
    "from wordcloud import WordCloud, ImageColorGenerator  # Generate word clouds\n",
    "from PIL import Image            # Image processing (for custom word cloud masks)"
   ]
  },
  {
   "cell_type": "code",
   "execution_count": 2,
   "id": "10bfcda5-9a89-4043-9d97-42e55e11b5ed",
   "metadata": {},
   "outputs": [
    {
     "data": {
      "text/html": [
       "<div>\n",
       "<style scoped>\n",
       "    .dataframe tbody tr th:only-of-type {\n",
       "        vertical-align: middle;\n",
       "    }\n",
       "\n",
       "    .dataframe tbody tr th {\n",
       "        vertical-align: top;\n",
       "    }\n",
       "\n",
       "    .dataframe thead th {\n",
       "        text-align: right;\n",
       "    }\n",
       "</style>\n",
       "<table border=\"1\" class=\"dataframe\">\n",
       "  <thead>\n",
       "    <tr style=\"text-align: right;\">\n",
       "      <th></th>\n",
       "      <th>title</th>\n",
       "      <th>genres</th>\n",
       "      <th>episodes</th>\n",
       "      <th>duration_per_episode</th>\n",
       "      <th>score</th>\n",
       "      <th>year</th>\n",
       "      <th>studios</th>\n",
       "      <th>Q_views</th>\n",
       "    </tr>\n",
       "  </thead>\n",
       "  <tbody>\n",
       "    <tr>\n",
       "      <th>0</th>\n",
       "      <td>Dragon Ball</td>\n",
       "      <td>['Action', 'Adventure', 'Comedy', 'Fantasy']</td>\n",
       "      <td>153</td>\n",
       "      <td>24 min per ep</td>\n",
       "      <td>7.98</td>\n",
       "      <td>1986.0</td>\n",
       "      <td>['Toei Animation']</td>\n",
       "      <td>1</td>\n",
       "    </tr>\n",
       "    <tr>\n",
       "      <th>1</th>\n",
       "      <td>Pokemon</td>\n",
       "      <td>['Action', 'Adventure', 'Comedy', 'Fantasy']</td>\n",
       "      <td>276</td>\n",
       "      <td>24 min per ep</td>\n",
       "      <td>7.41</td>\n",
       "      <td>1997.0</td>\n",
       "      <td>['OLM']</td>\n",
       "      <td>1</td>\n",
       "    </tr>\n",
       "    <tr>\n",
       "      <th>2</th>\n",
       "      <td>Bishoujo Senshi Sailor Moon</td>\n",
       "      <td>['Romance']</td>\n",
       "      <td>46</td>\n",
       "      <td>24 min per ep</td>\n",
       "      <td>7.74</td>\n",
       "      <td>1992.0</td>\n",
       "      <td>['Toei Animation']</td>\n",
       "      <td>1</td>\n",
       "    </tr>\n",
       "    <tr>\n",
       "      <th>3</th>\n",
       "      <td>InuYasha</td>\n",
       "      <td>['Action', 'Adventure', 'Fantasy', 'Romance']</td>\n",
       "      <td>167</td>\n",
       "      <td>24 min per ep</td>\n",
       "      <td>7.87</td>\n",
       "      <td>2000.0</td>\n",
       "      <td>['Sunrise']</td>\n",
       "      <td>7</td>\n",
       "    </tr>\n",
       "    <tr>\n",
       "      <th>4</th>\n",
       "      <td>Death Note</td>\n",
       "      <td>['Supernatural', 'Suspense']</td>\n",
       "      <td>37</td>\n",
       "      <td>23 min per ep</td>\n",
       "      <td>8.62</td>\n",
       "      <td>2006.0</td>\n",
       "      <td>['Madhouse']</td>\n",
       "      <td>2</td>\n",
       "    </tr>\n",
       "  </tbody>\n",
       "</table>\n",
       "</div>"
      ],
      "text/plain": [
       "                         title                                         genres  \\\n",
       "0                  Dragon Ball   ['Action', 'Adventure', 'Comedy', 'Fantasy']   \n",
       "1                      Pokemon   ['Action', 'Adventure', 'Comedy', 'Fantasy']   \n",
       "2  Bishoujo Senshi Sailor Moon                                    ['Romance']   \n",
       "3                     InuYasha  ['Action', 'Adventure', 'Fantasy', 'Romance']   \n",
       "4                   Death Note                   ['Supernatural', 'Suspense']   \n",
       "\n",
       "   episodes duration_per_episode  score    year             studios  Q_views  \n",
       "0       153        24 min per ep   7.98  1986.0  ['Toei Animation']        1  \n",
       "1       276        24 min per ep   7.41  1997.0             ['OLM']        1  \n",
       "2        46        24 min per ep   7.74  1992.0  ['Toei Animation']        1  \n",
       "3       167        24 min per ep   7.87  2000.0         ['Sunrise']        7  \n",
       "4        37        23 min per ep   8.62  2006.0        ['Madhouse']        2  "
      ]
     },
     "execution_count": 2,
     "metadata": {},
     "output_type": "execute_result"
    }
   ],
   "source": [
    "# Let's import and see our data:\n",
    "df = pd.read_csv(\"../Data/anime_data.csv\")\n",
    "df.head()"
   ]
  },
  {
   "cell_type": "code",
   "execution_count": 3,
   "id": "9aa191df-0180-47a0-8bcb-f45eae1e0663",
   "metadata": {},
   "outputs": [],
   "source": [
    "# Function to convert duration_per_episode to just minutes (numbers)\n",
    "# - Handles two formats: \n",
    "#   1. \"X hr Y min\" → converts to (X*60 + Y) minutes\n",
    "#   2. \"Z min per ep\" → extracts Z as minutes\n",
    "def convert_to_minutes(duration):\n",
    "    if 'hr' in duration:\n",
    "        # Extract hours and minutes (e.g., \"1 hr 30 min\" → 90 min)\n",
    "        parts = duration.split()\n",
    "        hours = int(parts[0])\n",
    "        minutes = int(parts[2]) if 'min' in parts[3] else 0\n",
    "        return hours * 60 + minutes\n",
    "    else:\n",
    "        # Extract just minutes (e.g., \"73 min per ep\" → 73)\n",
    "        return int(duration.split()[0])\n",
    "\n",
    "# Apply the function to create a new column\n",
    "df['minutes_per_episode'] = df['duration_per_episode'].apply(convert_to_minutes)"
   ]
  },
  {
   "cell_type": "code",
   "execution_count": 4,
   "id": "054046ab-169e-4c6d-b940-aee254c40ed6",
   "metadata": {},
   "outputs": [
    {
     "data": {
      "text/plain": [
       "title                    object\n",
       "genres                   object\n",
       "episodes                  int64\n",
       "duration_per_episode     object\n",
       "score                   float64\n",
       "year                    float64\n",
       "studios                  object\n",
       "Q_views                   int64\n",
       "minutes_per_episode       int64\n",
       "dtype: object"
      ]
     },
     "execution_count": 4,
     "metadata": {},
     "output_type": "execute_result"
    }
   ],
   "source": [
    "# Display the data types of each column in the DataFrame\n",
    "# - Helps identify how pandas has interpreted each column (e.g., numeric, string, object)\n",
    "# - Critical for ensuring correct analysis (e.g., numbers stored as strings won't work in math operations)\n",
    "df.dtypes"
   ]
  },
  {
   "cell_type": "code",
   "execution_count": 5,
   "id": "bbf2fcf5-614a-47f3-adc5-c7ee53a4c98a",
   "metadata": {},
   "outputs": [
    {
     "name": "stdout",
     "output_type": "stream",
     "text": [
      "\n",
      "=== Data Types After Conversion ===\n",
      "title                   string[python]\n",
      "genres                          object\n",
      "episodes                         Int64\n",
      "duration_per_episode            object\n",
      "score                          float64\n",
      "year                             Int64\n",
      "studios                         object\n",
      "Q_views                          Int64\n",
      "minutes_per_episode              int64\n",
      "dtype: object\n",
      "\n",
      "=== Missing Values After Conversion ===\n",
      "title                   0\n",
      "genres                  0\n",
      "episodes                0\n",
      "duration_per_episode    0\n",
      "score                   0\n",
      "year                    5\n",
      "studios                 0\n",
      "Q_views                 0\n",
      "minutes_per_episode     0\n",
      "dtype: int64\n"
     ]
    }
   ],
   "source": [
    "# 1. Clean 'title' column (convert to efficient string dtype)\n",
    "df['title'] = df['title'].str.strip().astype('string')  # Uses pandas' StringDtype (more efficient than object)\n",
    "\n",
    "# 2. Convert string representations of lists to actual lists\n",
    "for list_col in ['genres', 'studios']:\n",
    "    df[list_col] = df[list_col].apply(\n",
    "        lambda x: ast.literal_eval(x) if pd.notna(x) and x.startswith('[') else []\n",
    "    )\n",
    "    # Added safety check for malformed strings\n",
    "\n",
    "# 3. Numeric conversions with better error handling\n",
    "numeric_cols = {\n",
    "    'episodes': 'Int64',    # Nullable integer type\n",
    "    'score': 'float64',     # Standard float\n",
    "    'year': 'Int64',        # Nullable integer type\n",
    "    'Q_views': 'Int64'      # Added this conversion as it wasn't in original\n",
    "}\n",
    "\n",
    "for col, dtype in numeric_cols.items():\n",
    "    df[col] = pd.to_numeric(df[col], errors='coerce').astype(dtype)\n",
    "\n",
    "# Verify conversions\n",
    "print(\"\\n=== Data Types After Conversion ===\")\n",
    "print(df.dtypes)\n",
    "\n",
    "# Additional validation\n",
    "print(\"\\n=== Missing Values After Conversion ===\")\n",
    "print(df.isna().sum())"
   ]
  },
  {
   "cell_type": "code",
   "execution_count": 6,
   "id": "3373982d-8daa-4f05-8cc4-63154c7abe50",
   "metadata": {},
   "outputs": [
    {
     "name": "stdout",
     "output_type": "stream",
     "text": [
      "=== Key Statistics ===\n",
      "Total anime watched: 58\n",
      "Average episode duration: 28.7 minutes\n",
      "Average score: 7.86\n",
      "Missing years: 5\n"
     ]
    }
   ],
   "source": [
    "# Summary of key Statistics\n",
    "print(\"=== Key Statistics ===\")\n",
    "print(f\"Total anime watched: {len(df)}\")\n",
    "print(f\"Average episode duration: {df['minutes_per_episode'].mean():.1f} minutes\")\n",
    "print(f\"Average score: {df['score'].mean():.2f}\")\n",
    "print(f\"Missing years: {df['year'].isna().sum()}\")"
   ]
  },
  {
   "cell_type": "code",
   "execution_count": 7,
   "id": "ce07cc3f-c91f-400f-9f80-b5d6785cff26",
   "metadata": {},
   "outputs": [
    {
     "name": "stdout",
     "output_type": "stream",
     "text": [
      "\n",
      "Anime with missing year:\n",
      "                                        title             studios\n",
      "7   Hunter x Hunter Movie 2: The Last Mission          [Madhouse]\n",
      "8      Hunter x Hunter Movie 1: Phantom Rouge          [Madhouse]\n",
      "13                     Evangelion: 3.0 (-46h)             [Khara]\n",
      "22                             Koe no Katachi   [Kyoto Animation]\n",
      "23                             Kimi no Na wa.  [CoMix Wave Films]\n"
     ]
    },
    {
     "data": {
      "image/png": "[encoded data removed]",
      "text/plain": [
       "<Figure size 1000x500 with 1 Axes>"
      ]
     },
     "metadata": {},
     "output_type": "display_data"
    }
   ],
   "source": [
    "# Year Analyisis\n",
    "# Identify anime with missing year\n",
    "missing_year = df[df['year'].isna()][['title', 'studios']]\n",
    "print(\"\\nAnime with missing year:\")\n",
    "print(missing_year)\n",
    "\n",
    "# Year distribution visualization\n",
    "plt.figure(figsize=(10,5))\n",
    "df['year'].dropna().astype(int).hist(bins=30)\n",
    "plt.title('Distribution of Anime Release Years')\n",
    "plt.xlabel('Year')\n",
    "plt.ylabel('Count')\n",
    "plt.show()"
   ]
  },
  {
   "cell_type": "code",
   "execution_count": 8,
   "id": "91ee25f6-b5ee-4347-b614-408409e06a2b",
   "metadata": {},
   "outputs": [
    {
     "name": "stdout",
     "output_type": "stream",
     "text": [
      "\n",
      "Score Distribution:\n",
      "count    58.000000\n",
      "mean      7.859828\n",
      "std       0.609865\n",
      "min       6.120000\n",
      "25%       7.420000\n",
      "50%       7.885000\n",
      "75%       8.297500\n",
      "90%       8.578000\n",
      "max       9.030000\n",
      "Name: score, dtype: float64\n"
     ]
    },
    {
     "data": {
      "image/png": "[encoded data removed]",
      "text/plain": [
       "<Figure size 1000x500 with 1 Axes>"
      ]
     },
     "metadata": {},
     "output_type": "display_data"
    }
   ],
   "source": [
    "# Score Analysis\n",
    "print(\"\\nScore Distribution:\")\n",
    "print(df['score'].describe(percentiles=[.25, .5, .75, .9]))\n",
    "\n",
    "# Visualize score distribution\n",
    "plt.figure(figsize=(10,5))\n",
    "sns.boxplot(x=df['score'])\n",
    "plt.title('Anime Score Distribution')\n",
    "plt.show()"
   ]
  },
  {
   "cell_type": "code",
   "execution_count": 9,
   "id": "dc5ee2bc-b44f-436c-ba7c-c09d134e333d",
   "metadata": {},
   "outputs": [
    {
     "name": "stdout",
     "output_type": "stream",
     "text": [
      "\n",
      "Duration Types:\n",
      "Standard episodes: 54\n",
      "Movies/specials: 4\n"
     ]
    }
   ],
   "source": [
    "# Breakdown of duration types\n",
    "duration_types = df['duration_per_episode'].str.contains('hr').value_counts()\n",
    "print(\"\\nDuration Types:\")\n",
    "print(f\"Standard episodes: {duration_types.get(False, 0)}\")\n",
    "print(f\"Movies/specials: {duration_types.get(True, 0)}\")"
   ]
  },
  {
   "cell_type": "code",
   "execution_count": 10,
   "id": "80ec3dd5-8c63-445d-8c42-dd42d474298d",
   "metadata": {},
   "outputs": [],
   "source": [
    "# Missing Values (years) :\n",
    "# Fill missing years from external data or reasonable estimates\n",
    "df.loc[df['title'] == \"Hunter x Hunter Movie 2: The Last Mission\", 'year'] = 2013\n",
    "df.loc[df['title'] == \"Hunter x Hunter Movie 1: Phantom Rouge\", 'year'] = 2013\n",
    "df.loc[df['title'] == \"Evangelion: 3.0 (-46h)\", 'year'] = 2021\n",
    "df.loc[df['title'] == \"Koe no Katachi\", 'year'] = 2016\n",
    "df.loc[df['title'] == \"Kimi no Na wa.\", 'year'] = 2018"
   ]
  },
  {
   "cell_type": "code",
   "execution_count": 11,
   "id": "c98204bc-ae9a-4445-81c6-16cae79ebacc",
   "metadata": {},
   "outputs": [
    {
     "name": "stdout",
     "output_type": "stream",
     "text": [
      "\n",
      "Most Common Genres:\n",
      "genres\n",
      "Action       23\n",
      "Romance      22\n",
      "Drama        19\n",
      "Fantasy      16\n",
      "Adventure    11\n",
      "Name: count, dtype: int64\n",
      "\n",
      "Most Productive Studios:\n",
      "studios\n",
      "A-1 Pictures      5\n",
      "MAPPA             5\n",
      "Madhouse          4\n",
      "Production I.G    4\n",
      "CloverWorks       4\n",
      "Name: count, dtype: int64\n"
     ]
    }
   ],
   "source": [
    "# Genre frequency (after your list conversion)\n",
    "all_genres = df['genres'].explode()\n",
    "print(\"\\nMost Common Genres:\")\n",
    "print(all_genres.value_counts().head(5))\n",
    "\n",
    "# Studio analysis\n",
    "all_studios = df['studios'].explode()\n",
    "print(\"\\nMost Productive Studios:\")\n",
    "print(all_studios.value_counts().head(5))"
   ]
  },
  {
   "cell_type": "code",
   "execution_count": 12,
   "id": "a8c6288e-08c3-479d-a5e5-5fb7ad8e8351",
   "metadata": {},
   "outputs": [],
   "source": [
    "# Explode genres while preserving other list-type columns\n",
    "df_exploded = df.explode('genres')\n",
    "df_exploded.head()\n",
    "df_exploded.to_csv(\"../Data/df_exploded.csv\", index=False)"
   ]
  },
  {
   "cell_type": "code",
   "execution_count": 13,
   "id": "b75e082c-9faf-41a4-a5bc-4782eeccb073",
   "metadata": {},
   "outputs": [
    {
     "data": {
      "image/png": "[encoded data removed]",
      "text/plain": [
       "<Figure size 1200x600 with 1 Axes>"
      ]
     },
     "metadata": {},
     "output_type": "display_data"
    }
   ],
   "source": [
    "plt.style.use('ggplot')\n",
    "\n",
    "# Genre Frequency Analysis\n",
    "genre_counts = df_exploded['genres'].value_counts()\n",
    "\n",
    "plt.figure(figsize=(12,6))\n",
    "genre_counts.head(15).sort_values().plot.barh(color='darkred')\n",
    "plt.title('Your Top 15 Anime Genres', fontsize=14)\n",
    "plt.xlabel('Number of Appearances')\n",
    "plt.ylabel('Genre')\n",
    "plt.show()"
   ]
  },
  {
   "cell_type": "code",
   "execution_count": 14,
   "id": "8a5e1b7f-52aa-4a69-90d7-0c45b7f282db",
   "metadata": {},
   "outputs": [
    {
     "name": "stdout",
     "output_type": "stream",
     "text": [
      "\n",
      "=== Favorite Studio-Genre Combinations ===\n",
      "studios          genres   \n",
      "Madhouse         Action       3\n",
      "MAPPA            Action       3\n",
      "CloverWorks      Romance      3\n",
      "A-1 Pictures     Romance      3\n",
      "Madhouse         Fantasy      3\n",
      "                 Adventure    3\n",
      "MAPPA            Drama        2\n",
      "Kyoto Animation  Drama        2\n",
      "Project No.9     Drama        2\n",
      "MAPPA            Adventure    2\n",
      "dtype: int64\n"
     ]
    }
   ],
   "source": [
    "# Explode studios\n",
    "studio_genre = df_exploded.explode('studios')\n",
    "\n",
    "# Top studio-genre combinations\n",
    "top_combos = (\n",
    "    studio_genre.groupby(['studios', 'genres'])\n",
    "    .size()\n",
    "    .sort_values(ascending=False)\n",
    "    .head(10)\n",
    ")\n",
    "\n",
    "print(\"\\n=== Favorite Studio-Genre Combinations ===\")\n",
    "print(top_combos)"
   ]
  },
  {
   "cell_type": "code",
   "execution_count": 1,
   "id": "42c74295-1fd0-4a55-b041-8cbc9685656b",
   "metadata": {},
   "outputs": [
    {
     "ename": "NameError",
     "evalue": "name 'px' is not defined",
     "output_type": "error",
     "traceback": [
      "\u001b[0;31m---------------------------------------------------------------------------\u001b[0m",
      "\u001b[0;31mNameError\u001b[0m                                 Traceback (most recent call last)",
      "Cell \u001b[0;32mIn[1], line 2\u001b[0m\n\u001b[1;32m      1\u001b[0m \u001b[38;5;66;03m# Interactive Visualization of Animes\u001b[39;00m\n\u001b[0;32m----> 2\u001b[0m title_by_genre \u001b[38;5;241m=\u001b[39m \u001b[43mpx\u001b[49m\u001b[38;5;241m.\u001b[39msunburst(df_exploded, path\u001b[38;5;241m=\u001b[39m[\u001b[38;5;124m'\u001b[39m\u001b[38;5;124mgenres\u001b[39m\u001b[38;5;124m'\u001b[39m, \u001b[38;5;124m'\u001b[39m\u001b[38;5;124mtitle\u001b[39m\u001b[38;5;124m'\u001b[39m], values\u001b[38;5;241m=\u001b[39m\u001b[38;5;124m'\u001b[39m\u001b[38;5;124mscore\u001b[39m\u001b[38;5;124m'\u001b[39m)\n\u001b[1;32m      3\u001b[0m title_by_genre\u001b[38;5;241m.\u001b[39mwrite_html(\u001b[38;5;124m\"\u001b[39m\u001b[38;5;124m../Outputs/circular_plot_titles.html\u001b[39m\u001b[38;5;124m\"\u001b[39m) \n\u001b[1;32m      4\u001b[0m title_By_genre\n",
      "\u001b[0;31mNameError\u001b[0m: name 'px' is not defined"
     ]
    }
   ],
   "source": [
    "# Interactive Visualization of Animes\n",
    "title_by_genre = px.sunburst(df_exploded, path=['genres', 'title'], values='score')\n",
    "title_by_genre.write_html(\"../Outputs/circular_plot_titles.html\") "
   ]
  },
  {
   "cell_type": "code",
   "execution_count": 16,
   "id": "33818ec7-24ad-4155-a195-97766fc76432",
   "metadata": {},
   "outputs": [
    {
     "name": "stdout",
     "output_type": "stream",
     "text": [
      "=== Anime Watch Time ===\n",
      "Total hours: 1,288.88\n",
      "That's approximately 53.7 full days!\n",
      "Equivalent to 0.15 years of non-stop watching\n",
      "Equivalent to watching 'One Piece' 1.3 times\n"
     ]
    }
   ],
   "source": [
    "# Calculate total watch time in hours\n",
    "df[\"total_watch_minutes\"] = (\n",
    "    df[\"minutes_per_episode\"].fillna(0) * \n",
    "    df[\"episodes\"].fillna(1) *  # Assume 1 episode if missing\n",
    "    df[\"Q_views\"].fillna(1)     # Assume 1 viewing if missing\n",
    ")\n",
    "\n",
    "total_hours = df[\"total_watch_minutes\"].sum() / 60\n",
    "total_days = total_hours / 24\n",
    "\n",
    "print(\"=== Anime Watch Time ===\")\n",
    "print(f\"Total hours: {total_hours:,.2f}\")\n",
    "print(f\"That's approximately {total_days:,.1f} full days!\")\n",
    "print(f\"Equivalent to {total_hours/24/365:,.2f} years of non-stop watching\")\n",
    "print(f\"Equivalent to watching 'One Piece' {total_hours/1000:,.1f} times\")  # Assuming 1000 eps at 24 mins"
   ]
  },
  {
   "cell_type": "code",
   "execution_count": 17,
   "id": "5bbdb8b3-c095-40b3-861e-4311548b94c7",
   "metadata": {},
   "outputs": [
    {
     "name": "stdout",
     "output_type": "stream",
     "text": [
      "\n",
      "Average time per anime: 22.2 hours\n",
      "\n",
      "Top 5 Genres by Watch Time:\n",
      "genres\n",
      "Action       946.1 hours\n",
      "Fantasy      855.1 hours\n",
      "Adventure    843.7 hours\n",
      "Romance      651.6 hours\n",
      "Comedy       247.3 hours\n",
      "Name: total_watch_minutes, dtype: object\n"
     ]
    }
   ],
   "source": [
    "# Average time per anime\n",
    "print(f\"\\nAverage time per anime: {df['total_watch_minutes'].mean()/60:,.1f} hours\")\n",
    "\n",
    "# Time distribution by genre\n",
    "genre_time = (\n",
    "    df.explode('genres')\n",
    "    .groupby('genres')['total_watch_minutes']\n",
    "    .sum()\n",
    "    .sort_values(ascending=False))\n",
    "    \n",
    "print(\"\\nTop 5 Genres by Watch Time:\")\n",
    "print((genre_time.head(5)/60).apply(lambda x: f\"{x:,.1f} hours\"))"
   ]
  },
  {
   "cell_type": "code",
   "execution_count": 18,
   "id": "2ef9181c-ea63-4573-a9a6-ef9f914305f0",
   "metadata": {},
   "outputs": [
    {
     "data": {
      "text/html": [
       "<div>\n",
       "<style scoped>\n",
       "    .dataframe tbody tr th:only-of-type {\n",
       "        vertical-align: middle;\n",
       "    }\n",
       "\n",
       "    .dataframe tbody tr th {\n",
       "        vertical-align: top;\n",
       "    }\n",
       "\n",
       "    .dataframe thead th {\n",
       "        text-align: right;\n",
       "    }\n",
       "</style>\n",
       "<table border=\"1\" class=\"dataframe\">\n",
       "  <thead>\n",
       "    <tr style=\"text-align: right;\">\n",
       "      <th></th>\n",
       "      <th>title</th>\n",
       "      <th>genres</th>\n",
       "      <th>episodes</th>\n",
       "      <th>duration_per_episode</th>\n",
       "      <th>score</th>\n",
       "      <th>year</th>\n",
       "      <th>studios</th>\n",
       "      <th>Q_views</th>\n",
       "      <th>minutes_per_episode</th>\n",
       "    </tr>\n",
       "  </thead>\n",
       "  <tbody>\n",
       "    <tr>\n",
       "      <th>0</th>\n",
       "      <td>Dragon Ball</td>\n",
       "      <td>Action</td>\n",
       "      <td>153</td>\n",
       "      <td>24 min per ep</td>\n",
       "      <td>7.98</td>\n",
       "      <td>1986</td>\n",
       "      <td>[Toei Animation]</td>\n",
       "      <td>1</td>\n",
       "      <td>24</td>\n",
       "    </tr>\n",
       "    <tr>\n",
       "      <th>0</th>\n",
       "      <td>Dragon Ball</td>\n",
       "      <td>Adventure</td>\n",
       "      <td>153</td>\n",
       "      <td>24 min per ep</td>\n",
       "      <td>7.98</td>\n",
       "      <td>1986</td>\n",
       "      <td>[Toei Animation]</td>\n",
       "      <td>1</td>\n",
       "      <td>24</td>\n",
       "    </tr>\n",
       "    <tr>\n",
       "      <th>0</th>\n",
       "      <td>Dragon Ball</td>\n",
       "      <td>Comedy</td>\n",
       "      <td>153</td>\n",
       "      <td>24 min per ep</td>\n",
       "      <td>7.98</td>\n",
       "      <td>1986</td>\n",
       "      <td>[Toei Animation]</td>\n",
       "      <td>1</td>\n",
       "      <td>24</td>\n",
       "    </tr>\n",
       "    <tr>\n",
       "      <th>0</th>\n",
       "      <td>Dragon Ball</td>\n",
       "      <td>Fantasy</td>\n",
       "      <td>153</td>\n",
       "      <td>24 min per ep</td>\n",
       "      <td>7.98</td>\n",
       "      <td>1986</td>\n",
       "      <td>[Toei Animation]</td>\n",
       "      <td>1</td>\n",
       "      <td>24</td>\n",
       "    </tr>\n",
       "    <tr>\n",
       "      <th>1</th>\n",
       "      <td>Pokemon</td>\n",
       "      <td>Action</td>\n",
       "      <td>276</td>\n",
       "      <td>24 min per ep</td>\n",
       "      <td>7.41</td>\n",
       "      <td>1997</td>\n",
       "      <td>[OLM]</td>\n",
       "      <td>1</td>\n",
       "      <td>24</td>\n",
       "    </tr>\n",
       "  </tbody>\n",
       "</table>\n",
       "</div>"
      ],
      "text/plain": [
       "         title     genres  episodes duration_per_episode  score  year  \\\n",
       "0  Dragon Ball     Action       153        24 min per ep   7.98  1986   \n",
       "0  Dragon Ball  Adventure       153        24 min per ep   7.98  1986   \n",
       "0  Dragon Ball     Comedy       153        24 min per ep   7.98  1986   \n",
       "0  Dragon Ball    Fantasy       153        24 min per ep   7.98  1986   \n",
       "1      Pokemon     Action       276        24 min per ep   7.41  1997   \n",
       "\n",
       "            studios  Q_views  minutes_per_episode  \n",
       "0  [Toei Animation]        1                   24  \n",
       "0  [Toei Animation]        1                   24  \n",
       "0  [Toei Animation]        1                   24  \n",
       "0  [Toei Animation]        1                   24  \n",
       "1             [OLM]        1                   24  "
      ]
     },
     "execution_count": 18,
     "metadata": {},
     "output_type": "execute_result"
    }
   ],
   "source": [
    "df_exploded.head()"
   ]
  },
  {
   "cell_type": "code",
   "execution_count": 19,
   "id": "cda033c9-53ac-4d83-82ab-ab2629739d60",
   "metadata": {},
   "outputs": [
    {
     "name": "stdout",
     "output_type": "stream",
     "text": [
      "=== Comprehensive Genre Statistics ===\n"
     ]
    },
    {
     "data": {
      "text/html": [
       "<div>\n",
       "<style scoped>\n",
       "    .dataframe tbody tr th:only-of-type {\n",
       "        vertical-align: middle;\n",
       "    }\n",
       "\n",
       "    .dataframe tbody tr th {\n",
       "        vertical-align: top;\n",
       "    }\n",
       "\n",
       "    .dataframe thead th {\n",
       "        text-align: right;\n",
       "    }\n",
       "</style>\n",
       "<table border=\"1\" class=\"dataframe\">\n",
       "  <thead>\n",
       "    <tr style=\"text-align: right;\">\n",
       "      <th></th>\n",
       "      <th>genres</th>\n",
       "      <th>Number_of_Titles</th>\n",
       "      <th>Total_Hours</th>\n",
       "      <th>Average_Score</th>\n",
       "      <th>Most_Watched_Title</th>\n",
       "    </tr>\n",
       "  </thead>\n",
       "  <tbody>\n",
       "    <tr>\n",
       "      <th>0</th>\n",
       "      <td>Action</td>\n",
       "      <td>23</td>\n",
       "      <td>946.1</td>\n",
       "      <td>7.75</td>\n",
       "      <td>InuYasha</td>\n",
       "    </tr>\n",
       "    <tr>\n",
       "      <th>1</th>\n",
       "      <td>Fantasy</td>\n",
       "      <td>16</td>\n",
       "      <td>855.1</td>\n",
       "      <td>7.57</td>\n",
       "      <td>InuYasha</td>\n",
       "    </tr>\n",
       "    <tr>\n",
       "      <th>2</th>\n",
       "      <td>Adventure</td>\n",
       "      <td>11</td>\n",
       "      <td>843.7</td>\n",
       "      <td>7.69</td>\n",
       "      <td>InuYasha</td>\n",
       "    </tr>\n",
       "    <tr>\n",
       "      <th>3</th>\n",
       "      <td>Romance</td>\n",
       "      <td>22</td>\n",
       "      <td>651.6</td>\n",
       "      <td>7.71</td>\n",
       "      <td>InuYasha</td>\n",
       "    </tr>\n",
       "    <tr>\n",
       "      <th>4</th>\n",
       "      <td>Comedy</td>\n",
       "      <td>11</td>\n",
       "      <td>247.3</td>\n",
       "      <td>7.83</td>\n",
       "      <td>Dr. Stone</td>\n",
       "    </tr>\n",
       "    <tr>\n",
       "      <th>5</th>\n",
       "      <td>Drama</td>\n",
       "      <td>19</td>\n",
       "      <td>197.0</td>\n",
       "      <td>7.97</td>\n",
       "      <td>Banana Fish</td>\n",
       "    </tr>\n",
       "    <tr>\n",
       "      <th>6</th>\n",
       "      <td>Suspense</td>\n",
       "      <td>8</td>\n",
       "      <td>115.2</td>\n",
       "      <td>8.23</td>\n",
       "      <td>Banana Fish</td>\n",
       "    </tr>\n",
       "    <tr>\n",
       "      <th>7</th>\n",
       "      <td>Supernatural</td>\n",
       "      <td>5</td>\n",
       "      <td>76.4</td>\n",
       "      <td>8.42</td>\n",
       "      <td>Seishun Buta Yarou wa Bunny Girl Senpai no Yum...</td>\n",
       "    </tr>\n",
       "    <tr>\n",
       "      <th>8</th>\n",
       "      <td>Award Winning</td>\n",
       "      <td>6</td>\n",
       "      <td>71.8</td>\n",
       "      <td>8.53</td>\n",
       "      <td>Shingeki no Kyojin</td>\n",
       "    </tr>\n",
       "    <tr>\n",
       "      <th>9</th>\n",
       "      <td>Sports</td>\n",
       "      <td>3</td>\n",
       "      <td>63.0</td>\n",
       "      <td>8.17</td>\n",
       "      <td>Yuri!!! on Ice</td>\n",
       "    </tr>\n",
       "  </tbody>\n",
       "</table>\n",
       "</div>"
      ],
      "text/plain": [
       "          genres  Number_of_Titles  Total_Hours  Average_Score  \\\n",
       "0         Action                23        946.1           7.75   \n",
       "1        Fantasy                16        855.1           7.57   \n",
       "2      Adventure                11        843.7           7.69   \n",
       "3        Romance                22        651.6           7.71   \n",
       "4         Comedy                11        247.3           7.83   \n",
       "5          Drama                19        197.0           7.97   \n",
       "6       Suspense                 8        115.2           8.23   \n",
       "7   Supernatural                 5         76.4           8.42   \n",
       "8  Award Winning                 6         71.8           8.53   \n",
       "9         Sports                 3         63.0           8.17   \n",
       "\n",
       "                                  Most_Watched_Title  \n",
       "0                                           InuYasha  \n",
       "1                                           InuYasha  \n",
       "2                                           InuYasha  \n",
       "3                                           InuYasha  \n",
       "4                                          Dr. Stone  \n",
       "5                                        Banana Fish  \n",
       "6                                        Banana Fish  \n",
       "7  Seishun Buta Yarou wa Bunny Girl Senpai no Yum...  \n",
       "8                                 Shingeki no Kyojin  \n",
       "9                                     Yuri!!! on Ice  "
      ]
     },
     "metadata": {},
     "output_type": "display_data"
    }
   ],
   "source": [
    "# Calculate comprehensive genre statistics\n",
    "# Calculate total watch time in hours\n",
    "df_exploded[\"total_watch_minutes\"] = (\n",
    "    df[\"minutes_per_episode\"].fillna(0) * \n",
    "    df[\"episodes\"].fillna(1) *  # Assume 1 episode if missing\n",
    "    df[\"Q_views\"].fillna(1)     # Assume 1 viewing if missing\n",
    ")\n",
    "genre_stats = (\n",
    "    df_exploded.groupby('genres')\n",
    "    .agg(\n",
    "        Number_of_Titles=('title', 'count'),\n",
    "        Total_Hours=('total_watch_minutes', lambda x: x.sum()/60),\n",
    "        Average_Score=('score', 'mean'),\n",
    "        Most_Watched_Title=('title', lambda x: (df_exploded.loc[x.index]\n",
    "                                              .groupby('title')['Q_views']\n",
    "                                              .sum()\n",
    "                                              .idxmax()))\n",
    "    )\n",
    "    .sort_values('Total_Hours', ascending=False)\n",
    "    .reset_index()\n",
    ")\n",
    "\n",
    "# Formatting for readability\n",
    "genre_stats['Total_Hours'] = genre_stats['Total_Hours'].round(1)\n",
    "genre_stats['Average_Score'] = genre_stats['Average_Score'].round(2)\n",
    "\n",
    "print(\"=== Comprehensive Genre Statistics ===\")\n",
    "display(genre_stats.head(10))"
   ]
  },
  {
   "cell_type": "code",
   "execution_count": 20,
   "id": "a34826e6-046b-4fc4-adbb-13931a2dd4f0",
   "metadata": {},
   "outputs": [
    {
     "data": {
      "application/vnd.plotly.v1+json": {
       "config": {
        "plotlyServerURL": "https://plot.ly"
       },
       "data": [
        {
         "hovertemplate": "Total_Hours=%{r}<br>genres=%{theta}<br>Number_of_Titles=%{marker.color}<extra></extra>",
         "legendgroup": "",
         "marker": {
          "color": {
           "_inputArray": {
            "0": 23,
            "1": 16,
            "10": 6,
            "11": 4,
            "2": 11,
            "3": 22,
            "4": 11,
            "5": 19,
            "6": 8,
            "7": 5,
            "8": 6,
            "9": 3,
            "bdata": "FxALFgsTCAUGAwYE",
            "dtype": "i1",
            "shape": "12"
           },
           "bdata": "FxALFgsTCAUGAwYE",
           "dtype": "i1"
          },
          "coloraxis": "coloraxis",
          "pattern": {
           "shape": ""
          }
         },
         "name": "",
         "r": {
          "_inputArray": {
           "0": 946.1,
           "1": 855.1,
           "10": 57.2,
           "11": 26.8,
           "2": 843.7,
           "3": 651.6,
           "4": 247.3,
           "5": 197,
           "6": 115.2,
           "7": 76.4,
           "8": 71.8,
           "9": 63,
           "bdata": "zczMzMyQjUDNzMzMzLiKQJqZmZmZXYpAzczMzMxchECamZmZmeluQAAAAAAAoGhAzczMzMzMXECamZmZmRlTQDMzMzMz81FAAAAAAACAT0CamZmZmZlMQM3MzMzMzDpA",
           "dtype": "f8",
           "shape": "12"
          },
          "bdata": "zczMzMyQjUDNzMzMzLiKQJqZmZmZXYpAzczMzMxchECamZmZmeluQAAAAAAAoGhAzczMzMzMXECamZmZmRlTQDMzMzMz81FAAAAAAACAT0CamZmZmZlMQM3MzMzMzDpA",
          "dtype": "f8"
         },
         "showlegend": false,
         "subplot": "polar",
         "theta": [
          "Action",
          "Fantasy",
          "Adventure",
          "Romance",
          "Comedy",
          "Drama",
          "Suspense",
          "Supernatural",
          "Award Winning",
          "Sports",
          "Sci-Fi",
          "Mystery"
         ],
         "type": "barpolar"
        }
       ],
       "layout": {
        "autosize": true,
        "barmode": "relative",
        "coloraxis": {
         "colorbar": {
          "title": {
           "text": "Number_of_Titles"
          }
         },
         "colorscale": [
          [
           0,
           "rgb(38, 53, 113)"
          ],
          [
           0.5,
           "rgb(57, 162, 225)"
          ],
          [
           1,
           "rgb(234, 32, 41)"
          ]
         ]
        },
        "legend": {
         "tracegroupgap": 0
        },
        "margin": {
         "t": 60
        },
        "polar": {
         "angularaxis": {
          "direction": "clockwise",
          "rotation": 90,
          "type": "category"
         },
         "domain": {
          "x": [
           0,
           1
          ],
          "y": [
           0,
           1
          ]
         },
         "radialaxis": {
          "autorange": true,
          "range": [
           0,
           995.8947368421053
          ],
          "type": "linear"
         }
        },
        "template": {
         "data": {
          "bar": [
           {
            "error_x": {
             "color": "#2a3f5f"
            },
            "error_y": {
             "color": "#2a3f5f"
            },
            "marker": {
             "line": {
              "color": "white",
              "width": 0.5
             },
             "pattern": {
              "fillmode": "overlay",
              "size": 10,
              "solidity": 0.2
             }
            },
            "type": "bar"
           }
          ],
          "barpolar": [
           {
            "marker": {
             "line": {
              "color": "white",
              "width": 0.5
             },
             "pattern": {
              "fillmode": "overlay",
              "size": 10,
              "solidity": 0.2
             }
            },
            "type": "barpolar"
           }
          ],
          "carpet": [
           {
            "aaxis": {
             "endlinecolor": "#2a3f5f",
             "gridcolor": "#C8D4E3",
             "linecolor": "#C8D4E3",
             "minorgridcolor": "#C8D4E3",
             "startlinecolor": "#2a3f5f"
            },
            "baxis": {
             "endlinecolor": "#2a3f5f",
             "gridcolor": "#C8D4E3",
             "linecolor": "#C8D4E3",
             "minorgridcolor": "#C8D4E3",
             "startlinecolor": "#2a3f5f"
            },
            "type": "carpet"
           }
          ],
          "choropleth": [
           {
            "colorbar": {
             "outlinewidth": 0,
             "ticks": ""
            },
            "type": "choropleth"
           }
          ],
          "contour": [
           {
            "colorbar": {
             "outlinewidth": 0,
             "ticks": ""
            },
            "colorscale": [
             [
              0,
              "#0d0887"
             ],
             [
              0.1111111111111111,
              "#46039f"
             ],
             [
              0.2222222222222222,
              "#7201a8"
             ],
             [
              0.3333333333333333,
              "#9c179e"
             ],
             [
              0.4444444444444444,
              "#bd3786"
             ],
             [
              0.5555555555555556,
              "#d8576b"
             ],
             [
              0.6666666666666666,
              "#ed7953"
             ],
             [
              0.7777777777777778,
              "#fb9f3a"
             ],
             [
              0.8888888888888888,
              "#fdca26"
             ],
             [
              1,
              "#f0f921"
             ]
            ],
            "type": "contour"
           }
          ],
          "contourcarpet": [
           {
            "colorbar": {
             "outlinewidth": 0,
             "ticks": ""
            },
            "type": "contourcarpet"
           }
          ],
          "heatmap": [
           {
            "colorbar": {
             "outlinewidth": 0,
             "ticks": ""
            },
            "colorscale": [
             [
              0,
              "#0d0887"
             ],
             [
              0.1111111111111111,
              "#46039f"
             ],
             [
              0.2222222222222222,
              "#7201a8"
             ],
             [
              0.3333333333333333,
              "#9c179e"
             ],
             [
              0.4444444444444444,
              "#bd3786"
             ],
             [
              0.5555555555555556,
              "#d8576b"
             ],
             [
              0.6666666666666666,
              "#ed7953"
             ],
             [
              0.7777777777777778,
              "#fb9f3a"
             ],
             [
              0.8888888888888888,
              "#fdca26"
             ],
             [
              1,
              "#f0f921"
             ]
            ],
            "type": "heatmap"
           }
          ],
          "histogram": [
           {
            "marker": {
             "pattern": {
              "fillmode": "overlay",
              "size": 10,
              "solidity": 0.2
             }
            },
            "type": "histogram"
           }
          ],
          "histogram2d": [
           {
            "colorbar": {
             "outlinewidth": 0,
             "ticks": ""
            },
            "colorscale": [
             [
              0,
              "#0d0887"
             ],
             [
              0.1111111111111111,
              "#46039f"
             ],
             [
              0.2222222222222222,
              "#7201a8"
             ],
             [
              0.3333333333333333,
              "#9c179e"
             ],
             [
              0.4444444444444444,
              "#bd3786"
             ],
             [
              0.5555555555555556,
              "#d8576b"
             ],
             [
              0.6666666666666666,
              "#ed7953"
             ],
             [
              0.7777777777777778,
              "#fb9f3a"
             ],
             [
              0.8888888888888888,
              "#fdca26"
             ],
             [
              1,
              "#f0f921"
             ]
            ],
            "type": "histogram2d"
           }
          ],
          "histogram2dcontour": [
           {
            "colorbar": {
             "outlinewidth": 0,
             "ticks": ""
            },
            "colorscale": [
             [
              0,
              "#0d0887"
             ],
             [
              0.1111111111111111,
              "#46039f"
             ],
             [
              0.2222222222222222,
              "#7201a8"
             ],
             [
              0.3333333333333333,
              "#9c179e"
             ],
             [
              0.4444444444444444,
              "#bd3786"
             ],
             [
              0.5555555555555556,
              "#d8576b"
             ],
             [
              0.6666666666666666,
              "#ed7953"
             ],
             [
              0.7777777777777778,
              "#fb9f3a"
             ],
             [
              0.8888888888888888,
              "#fdca26"
             ],
             [
              1,
              "#f0f921"
             ]
            ],
            "type": "histogram2dcontour"
           }
          ],
          "mesh3d": [
           {
            "colorbar": {
             "outlinewidth": 0,
             "ticks": ""
            },
            "type": "mesh3d"
           }
          ],
          "parcoords": [
           {
            "line": {
             "colorbar": {
              "outlinewidth": 0,
              "ticks": ""
             }
            },
            "type": "parcoords"
           }
          ],
          "pie": [
           {
            "automargin": true,
            "type": "pie"
           }
          ],
          "scatter": [
           {
            "fillpattern": {
             "fillmode": "overlay",
             "size": 10,
             "solidity": 0.2
            },
            "type": "scatter"
           }
          ],
          "scatter3d": [
           {
            "line": {
             "colorbar": {
              "outlinewidth": 0,
              "ticks": ""
             }
            },
            "marker": {
             "colorbar": {
              "outlinewidth": 0,
              "ticks": ""
             }
            },
            "type": "scatter3d"
           }
          ],
          "scattercarpet": [
           {
            "marker": {
             "colorbar": {
              "outlinewidth": 0,
              "ticks": ""
             }
            },
            "type": "scattercarpet"
           }
          ],
          "scattergeo": [
           {
            "marker": {
             "colorbar": {
              "outlinewidth": 0,
              "ticks": ""
             }
            },
            "type": "scattergeo"
           }
          ],
          "scattergl": [
           {
            "marker": {
             "colorbar": {
              "outlinewidth": 0,
              "ticks": ""
             }
            },
            "type": "scattergl"
           }
          ],
          "scattermap": [
           {
            "marker": {
             "colorbar": {
              "outlinewidth": 0,
              "ticks": ""
             }
            },
            "type": "scattermap"
           }
          ],
          "scattermapbox": [
           {
            "marker": {
             "colorbar": {
              "outlinewidth": 0,
              "ticks": ""
             }
            },
            "type": "scattermapbox"
           }
          ],
          "scatterpolar": [
           {
            "marker": {
             "colorbar": {
              "outlinewidth": 0,
              "ticks": ""
             }
            },
            "type": "scatterpolar"
           }
          ],
          "scatterpolargl": [
           {
            "marker": {
             "colorbar": {
              "outlinewidth": 0,
              "ticks": ""
             }
            },
            "type": "scatterpolargl"
           }
          ],
          "scatterternary": [
           {
            "marker": {
             "colorbar": {
              "outlinewidth": 0,
              "ticks": ""
             }
            },
            "type": "scatterternary"
           }
          ],
          "surface": [
           {
            "colorbar": {
             "outlinewidth": 0,
             "ticks": ""
            },
            "colorscale": [
             [
              0,
              "#0d0887"
             ],
             [
              0.1111111111111111,
              "#46039f"
             ],
             [
              0.2222222222222222,
              "#7201a8"
             ],
             [
              0.3333333333333333,
              "#9c179e"
             ],
             [
              0.4444444444444444,
              "#bd3786"
             ],
             [
              0.5555555555555556,
              "#d8576b"
             ],
             [
              0.6666666666666666,
              "#ed7953"
             ],
             [
              0.7777777777777778,
              "#fb9f3a"
             ],
             [
              0.8888888888888888,
              "#fdca26"
             ],
             [
              1,
              "#f0f921"
             ]
            ],
            "type": "surface"
           }
          ],
          "table": [
           {
            "cells": {
             "fill": {
              "color": "#EBF0F8"
             },
             "line": {
              "color": "white"
             }
            },
            "header": {
             "fill": {
              "color": "#C8D4E3"
             },
             "line": {
              "color": "white"
             }
            },
            "type": "table"
           }
          ]
         },
         "layout": {
          "annotationdefaults": {
           "arrowcolor": "#2a3f5f",
           "arrowhead": 0,
           "arrowwidth": 1
          },
          "autotypenumbers": "strict",
          "coloraxis": {
           "colorbar": {
            "outlinewidth": 0,
            "ticks": ""
           }
          },
          "colorscale": {
           "diverging": [
            [
             0,
             "#8e0152"
            ],
            [
             0.1,
             "#c51b7d"
            ],
            [
             0.2,
             "#de77ae"
            ],
            [
             0.3,
             "#f1b6da"
            ],
            [
             0.4,
             "#fde0ef"
            ],
            [
             0.5,
             "#f7f7f7"
            ],
            [
             0.6,
             "#e6f5d0"
            ],
            [
             0.7,
             "#b8e186"
            ],
            [
             0.8,
             "#7fbc41"
            ],
            [
             0.9,
             "#4d9221"
            ],
            [
             1,
             "#276419"
            ]
           ],
           "sequential": [
            [
             0,
             "#0d0887"
            ],
            [
             0.1111111111111111,
             "#46039f"
            ],
            [
             0.2222222222222222,
             "#7201a8"
            ],
            [
             0.3333333333333333,
             "#9c179e"
            ],
            [
             0.4444444444444444,
             "#bd3786"
            ],
            [
             0.5555555555555556,
             "#d8576b"
            ],
            [
             0.6666666666666666,
             "#ed7953"
            ],
            [
             0.7777777777777778,
             "#fb9f3a"
            ],
            [
             0.8888888888888888,
             "#fdca26"
            ],
            [
             1,
             "#f0f921"
            ]
           ],
           "sequentialminus": [
            [
             0,
             "#0d0887"
            ],
            [
             0.1111111111111111,
             "#46039f"
            ],
            [
             0.2222222222222222,
             "#7201a8"
            ],
            [
             0.3333333333333333,
             "#9c179e"
            ],
            [
             0.4444444444444444,
             "#bd3786"
            ],
            [
             0.5555555555555556,
             "#d8576b"
            ],
            [
             0.6666666666666666,
             "#ed7953"
            ],
            [
             0.7777777777777778,
             "#fb9f3a"
            ],
            [
             0.8888888888888888,
             "#fdca26"
            ],
            [
             1,
             "#f0f921"
            ]
           ]
          },
          "colorway": [
           "#636efa",
           "#EF553B",
           "#00cc96",
           "#ab63fa",
           "#FFA15A",
           "#19d3f3",
           "#FF6692",
           "#B6E880",
           "#FF97FF",
           "#FECB52"
          ],
          "font": {
           "color": "#2a3f5f"
          },
          "geo": {
           "bgcolor": "white",
           "lakecolor": "white",
           "landcolor": "white",
           "showlakes": true,
           "showland": true,
           "subunitcolor": "#C8D4E3"
          },
          "hoverlabel": {
           "align": "left"
          },
          "hovermode": "closest",
          "mapbox": {
           "style": "light"
          },
          "paper_bgcolor": "white",
          "plot_bgcolor": "white",
          "polar": {
           "angularaxis": {
            "gridcolor": "#EBF0F8",
            "linecolor": "#EBF0F8",
            "ticks": ""
           },
           "bgcolor": "white",
           "radialaxis": {
            "gridcolor": "#EBF0F8",
            "linecolor": "#EBF0F8",
            "ticks": ""
           }
          },
          "scene": {
           "xaxis": {
            "backgroundcolor": "white",
            "gridcolor": "#DFE8F3",
            "gridwidth": 2,
            "linecolor": "#EBF0F8",
            "showbackground": true,
            "ticks": "",
            "zerolinecolor": "#EBF0F8"
           },
           "yaxis": {
            "backgroundcolor": "white",
            "gridcolor": "#DFE8F3",
            "gridwidth": 2,
            "linecolor": "#EBF0F8",
            "showbackground": true,
            "ticks": "",
            "zerolinecolor": "#EBF0F8"
           },
           "zaxis": {
            "backgroundcolor": "white",
            "gridcolor": "#DFE8F3",
            "gridwidth": 2,
            "linecolor": "#EBF0F8",
            "showbackground": true,
            "ticks": "",
            "zerolinecolor": "#EBF0F8"
           }
          },
          "shapedefaults": {
           "line": {
            "color": "#2a3f5f"
           }
          },
          "ternary": {
           "aaxis": {
            "gridcolor": "#DFE8F3",
            "linecolor": "#A2B1C6",
            "ticks": ""
           },
           "baxis": {
            "gridcolor": "#DFE8F3",
            "linecolor": "#A2B1C6",
            "ticks": ""
           },
           "bgcolor": "white",
           "caxis": {
            "gridcolor": "#DFE8F3",
            "linecolor": "#A2B1C6",
            "ticks": ""
           }
          },
          "title": {
           "x": 0.05
          },
          "xaxis": {
           "automargin": true,
           "gridcolor": "#EBF0F8",
           "linecolor": "#EBF0F8",
           "ticks": "",
           "title": {
            "standoff": 15
           },
           "zerolinecolor": "#EBF0F8",
           "zerolinewidth": 2
          },
          "yaxis": {
           "automargin": true,
           "gridcolor": "#EBF0F8",
           "linecolor": "#EBF0F8",
           "ticks": "",
           "title": {
            "standoff": 15
           },
           "zerolinecolor": "#EBF0F8",
           "zerolinewidth": 2
          }
         }
        }
       }
      }
     },
     "metadata": {},
     "output_type": "display_data"
    }
   ],
   "source": [
    "# Interactive plot to see the consumption of every genre in hours and number of titles.\n",
    "\n",
    "colorscale = [\n",
    "[0, 'rgb(38, 53, 113)'], \n",
    "[0.5, 'rgb(57, 162, 225)'],\n",
    "[1, 'rgb(234, 32, 41)']\n",
    "]\n",
    "\n",
    "plot_genre = px.bar_polar(\n",
    "    genre_stats, \n",
    "    r=\"Total_Hours\",\n",
    "    theta=\"genres\",\n",
    "    color=\"Number_of_Titles\",\n",
    "    template=\"plotly_white\",\n",
    "   color_continuous_scale= colorscale\n",
    ")\n",
    "plot_genre.show()\n",
    "plot_genre.write_html(\"../Outputs/circular_plot_genre.html\") "
   ]
  },
  {
   "cell_type": "code",
   "execution_count": 21,
   "id": "7f7b0bea-c4fa-4e08-bafc-9a78c95b4fcc",
   "metadata": {},
   "outputs": [
    {
     "name": "stdout",
     "output_type": "stream",
     "text": [
      "Action Adventure Comedy Fantasy Action Adventure Comedy Fantasy Romance Action Adventure Fantasy Romance Supernatural Suspense Drama Mystery Suspense Action Adventure Fantasy Action Adventure Fantasy Action Adventure Fantasy Action Award Winning Drama Suspense Mystery Suspense Action Award Winning Supernatural Action Adventure Fantasy SciFi Action Adventure Comedy SciFi Action Award Winning Supernatural Drama Romance Comedy Romance Romance Drama Romance Supernatural Comedy Romance Award Winning Drama Award Winning Drama Drama Suspense Drama Fantasy Romance Action Comedy Fantasy Drama Comedy Romance Comedy Romance Action Adventure Fantasy Action Adventure Fantasy Action Fantasy Action Fantasy Drama Action Fantasy Drama Supernatural Drama Romance Drama Romance Romance Comedy Romance Drama Romance Sports Action Fantasy SciFi Action Fantasy SciFi Action Mystery SciFi Suspense Drama Romance Award Winning Sports Action Adventure Drama Suspense Drama Romance SciFi Drama Romance Drama Romance Romance Mystery Suspense Comedy Romance Action Comedy Action Romance Sports\n"
     ]
    }
   ],
   "source": [
    "# making cleaning to make a wordcloud\n",
    "text = ' '.join(genre for sublist in df['genres'] for genre in sublist).replace('-','')\n",
    "print(text)"
   ]
  },
  {
   "cell_type": "code",
   "execution_count": 22,
   "id": "15fd3be9-a071-4ad3-9225-1b6042d195e1",
   "metadata": {},
   "outputs": [
    {
     "data": {
      "text/plain": [
       "<matplotlib.image.AxesImage at 0x10d801880>"
      ]
     },
     "execution_count": 22,
     "metadata": {},
     "output_type": "execute_result"
    },
    {
     "data": {
      "image/png": "[encoded data removed]",
      "text/plain": [
       "<Figure size 640x480 with 1 Axes>"
      ]
     },
     "metadata": {},
     "output_type": "display_data"
    }
   ],
   "source": [
    "background_image = np.array(Image.open('../Ilustración_sin_título.jpg'))\n",
    "plt.imshow(background_image)"
   ]
  },
  {
   "cell_type": "code",
   "execution_count": 23,
   "id": "c8462afc-a9a5-4405-8bc3-06cb60563e8d",
   "metadata": {},
   "outputs": [
    {
     "data": {
      "text/plain": [
       "<wordcloud.wordcloud.WordCloud at 0x10e5dd3a0>"
      ]
     },
     "execution_count": 23,
     "metadata": {},
     "output_type": "execute_result"
    }
   ],
   "source": [
    "word_cloud1 = WordCloud(collocations = False, \n",
    "                        mask = background_image, \n",
    "                        background_color = 'white',\n",
    "                        font_path = \"../../../Downloads/DynaPuff/DynaPuff-VariableFont_wdth,wght.ttf\",\n",
    "                        colormap = \"PiYG_r\",\n",
    "                        width = 2048, \n",
    "                        height = 1080).generate(text)\n",
    "# saving the image\n",
    "word_cloud1.to_file('../Outputs/wcan.png')"
   ]
  },
  {
   "cell_type": "code",
   "execution_count": 24,
   "id": "4abc7c5e-4487-4c1e-a260-2e972c3203ab",
   "metadata": {},
   "outputs": [
    {
     "data": {
      "image/png": "[encoded data removed]",
      "text/plain": [
       "<Figure size 640x480 with 1 Axes>"
      ]
     },
     "metadata": {},
     "output_type": "display_data"
    }
   ],
   "source": [
    "plt.imshow(word_cloud1, interpolation='bilinear')\n",
    "plt.axis(\"off\")\n",
    "plt.show()"
   ]
  },
  {
   "cell_type": "code",
   "execution_count": 25,
   "id": "77266d5e-db04-4258-8902-3abd18edd664",
   "metadata": {},
   "outputs": [
    {
     "data": {
      "text/html": [
       "\n",
       "        <iframe\n",
       "            width=\"100%\"\n",
       "            height=\"650\"\n",
       "            src=\"http://127.0.0.1:8050/\"\n",
       "            frameborder=\"0\"\n",
       "            allowfullscreen\n",
       "            \n",
       "        ></iframe>\n",
       "        "
      ],
      "text/plain": [
       "<IPython.lib.display.IFrame at 0x10e599ac0>"
      ]
     },
     "metadata": {},
     "output_type": "display_data"
    }
   ],
   "source": [
    "# Prepare data with better column names\n",
    "data = pd.DataFrame({\n",
    "    'Genre': df_exploded[\"genres\"],\n",
    "    'Year': df_exploded[\"year\"],\n",
    "    'Score': df_exploded[\"score\"],\n",
    "    'Episodes': df_exploded[\"episodes\"],\n",
    "    'Title': df_exploded[\"title\"],\n",
    "    'WatchTime': df_exploded[\"total_watch_minutes\"]\n",
    "})\n",
    "\n",
    "# Initialize Dash app with meta tags for mobile responsiveness\n",
    "app = dash.Dash(__name__, meta_tags=[\n",
    "    {\"name\": \"viewport\", \"content\": \"width=device-width, initial-scale=1.0\"}\n",
    "])\n",
    "\n",
    "app.layout = html.Div([\n",
    "    html.H1(\"Anime Genre Explorer\", style={'textAlign': 'center'}),\n",
    "    \n",
    "    html.Div([\n",
    "        dcc.Dropdown(\n",
    "            id='genre-filter',\n",
    "            options=[{'label': genre, 'value': genre} \n",
    "                    for genre in sorted(data['Genre'].unique())],\n",
    "            value='Action',  # Default to most common genre\n",
    "            clearable=False,\n",
    "            style={'width': '50%', 'margin': 'auto'}\n",
    "        ),\n",
    "    ], style={'padding': '20px'}),\n",
    "    \n",
    "    dcc.Graph(id='bubble-chart', style={'height': '80vh'}),\n",
    "    \n",
    "    html.Div([\n",
    "        html.P(\"Hover over bubbles for details. Size represents episode count, color shows watch time.\"),\n",
    "        html.P(\"Tip: Try zooming and panning on the chart!\")\n",
    "    ], style={'textAlign': 'center', 'color': 'gray'})\n",
    "])\n",
    "\n",
    "@app.callback(\n",
    "    Output('bubble-chart', 'figure'),\n",
    "    Input('genre-filter', 'value')\n",
    ")\n",
    "def update_graph(selected_genre):\n",
    "    filtered_df = data[data['Genre'] == selected_genre]\n",
    "    \n",
    "    fig = px.scatter(\n",
    "        filtered_df,\n",
    "        x='Year',\n",
    "        y='Score',\n",
    "        size='Episodes',\n",
    "        color='WatchTime',\n",
    "        hover_name='Title',\n",
    "        hover_data={\n",
    "            'Year': True,\n",
    "            'Score': ':.2f',\n",
    "            'Episodes': True,\n",
    "            'WatchTime': ':.1f hours',\n",
    "            'Genre': False  # Hide redundant genre info\n",
    "        },\n",
    "        title=f'{selected_genre} Anime: Score vs Year',\n",
    "        size_max=40,\n",
    "        color_continuous_scale=px.colors.sequential.Viridis,\n",
    "        labels={\n",
    "            'Year': 'Release Year',\n",
    "            'Score': 'MyAnimeList Score',\n",
    "            'Episodes': 'Episode Count',\n",
    "            'WatchTime': 'Hours Watched'\n",
    "        }\n",
    "    )\n",
    "    \n",
    "    # Enhance layout\n",
    "    fig.update_layout(\n",
    "        transition_duration=500,\n",
    "        xaxis_range=[filtered_df['Year'].min()-2, filtered_df['Year'].max()+2],\n",
    "        yaxis_range=[filtered_df['Score'].min()-0.5, 10],  # MAL scores cap at 10\n",
    "        plot_bgcolor='rgba(240,240,240,0.8)'\n",
    "    )\n",
    "    \n",
    "    # Add reference lines\n",
    "    fig.add_hline(y=7.5, line_dash=\"dot\", \n",
    "                 annotation_text=\"Good Anime\", \n",
    "                 annotation_position=\"bottom right\")\n",
    "    fig.add_hline(y=8.5, line_dash=\"dot\", \n",
    "                 annotation_text=\"Great Anime\", \n",
    "                 annotation_position=\"top right\")\n",
    "    \n",
    "    return fig\n",
    "\n",
    "if __name__ == '__main__':\n",
    "    app.run(debug=True, dev_tools_ui=True)\n",
    "\n"
   ]
  },
  {
   "cell_type": "code",
   "execution_count": 26,
   "id": "a06b30a7-544e-4661-a1e0-3d3aafe4a0fa",
   "metadata": {},
   "outputs": [
    {
     "data": {
      "text/html": [
       "<div>\n",
       "<style scoped>\n",
       "    .dataframe tbody tr th:only-of-type {\n",
       "        vertical-align: middle;\n",
       "    }\n",
       "\n",
       "    .dataframe tbody tr th {\n",
       "        vertical-align: top;\n",
       "    }\n",
       "\n",
       "    .dataframe thead th {\n",
       "        text-align: right;\n",
       "    }\n",
       "</style>\n",
       "<table border=\"1\" class=\"dataframe\">\n",
       "  <thead>\n",
       "    <tr style=\"text-align: right;\">\n",
       "      <th></th>\n",
       "      <th>title</th>\n",
       "      <th>score</th>\n",
       "      <th>studios</th>\n",
       "    </tr>\n",
       "  </thead>\n",
       "  <tbody>\n",
       "    <tr>\n",
       "      <th>22</th>\n",
       "      <td>Koe no Katachi</td>\n",
       "      <td>8.93</td>\n",
       "      <td>[Kyoto Animation]</td>\n",
       "    </tr>\n",
       "    <tr>\n",
       "      <th>23</th>\n",
       "      <td>Kimi no Na wa.</td>\n",
       "      <td>8.83</td>\n",
       "      <td>[CoMix Wave Films]</td>\n",
       "    </tr>\n",
       "    <tr>\n",
       "      <th>27</th>\n",
       "      <td>Violet Evergarden</td>\n",
       "      <td>8.68</td>\n",
       "      <td>[Kyoto Animation]</td>\n",
       "    </tr>\n",
       "  </tbody>\n",
       "</table>\n",
       "</div>"
      ],
      "text/plain": [
       "                title  score             studios\n",
       "22     Koe no Katachi   8.93   [Kyoto Animation]\n",
       "23     Kimi no Na wa.   8.83  [CoMix Wave Films]\n",
       "27  Violet Evergarden   8.68   [Kyoto Animation]"
      ]
     },
     "execution_count": 26,
     "metadata": {},
     "output_type": "execute_result"
    }
   ],
   "source": [
    "# Recomendations\n",
    "def recommend_anime(genre, max_episodes=50):\n",
    "    return df[\n",
    "        (df['genres'].str.contains(genre)) & \n",
    "        (df['episodes'] <= max_episodes) &\n",
    "        (df['score'] > 8)\n",
    "    ].sort_values('score', ascending=False)\n",
    "\n",
    "# Example:\n",
    "recommend_anime('Fantasy').head(3)[['title', 'score', 'studios']]"
   ]
  },
  {
   "cell_type": "code",
   "execution_count": null,
   "id": "bd63644a-df4a-4992-b209-e3ffd42af130",
   "metadata": {},
   "outputs": [],
   "source": []
  }
 ],
 "metadata": {
  "kernelspec": {
   "display_name": "Python 3 (ipykernel)",
   "language": "python",
   "name": "python3"
  },
  "language_info": {
   "codemirror_mode": {
    "name": "ipython",
    "version": 3
   },
   "file_extension": ".py",
   "mimetype": "text/x-python",
   "name": "python",
   "nbconvert_exporter": "python",
   "pygments_lexer": "ipython3",
   "version": "3.12.6"
  }
 },
 "nbformat": 4,
 "nbformat_minor": 5
}
